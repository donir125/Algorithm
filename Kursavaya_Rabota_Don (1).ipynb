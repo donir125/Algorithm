{
 "cells": [
  {
   "cell_type": "markdown",
   "metadata": {},
   "source": [
    "# Курсовая работа по дисциплине СиАОД\n",
    "## Выполнил студент группы БВТ1901 Иракозе Дон Де Дье\n"
   ]
  },
  {
   "cell_type": "markdown",
   "metadata": {},
   "source": [
    "## Задача 1. coins (cтопки монет)\n",
    "\n",
    "На столе стоят 3n стопок монет. Вы и ваши друзья Алиса и Боб забираете стопки монет по следующему алгоритму:\n",
    "\n",
    "1. Вы выбираете 3 стопки монет из оставшихся на столе.\n",
    "2. Алиса забирает себе стопку с максимальным количеством монет.\n",
    "3. Вы забираете одну из двух оставшихся стопок.\n",
    "4. Боб забирает последнюю стопку.\n",
    "5. Если еще остались стопки, то действия повторяются с первого шага.\n",
    "\n",
    "Дан массив целых положительных чисел piles. Напишите функцию, возвращающую максимальное число монет, которое вы можете получить"
   ]
  },
  {
   "cell_type": "code",
   "execution_count": 30,
   "metadata": {
    "scrolled": true
   },
   "outputs": [
    {
     "name": "stdout",
     "output_type": "stream",
     "text": [
      "Ввод: piles = [2,4,1,2,7,8]\n",
      "Вывод :  12\n",
      "Ввод: piles = [2,4,5]\n",
      "Вывод :  4\n",
      "Ввод: piles = [9,8,7,6,5,1,2,3,4]\n",
      "Вывод :  18\n"
     ]
    }
   ],
   "source": [
    "def massive_coins(arr):\n",
    "    arr.sort()\n",
    "    res=0\n",
    "    n=len(arr)//3\n",
    "    for i in range (n, len(arr), 2):\n",
    "        res+=arr[i]\n",
    "    return res\n",
    "print(\"Ввод: piles = [2,4,1,2,7,8]\")\n",
    "print(f'Вывод : ' , massive_coins([2,4,5,6,7,8]))\n",
    "print(\"Ввод: piles = [2,4,5]\")\n",
    "print( f'Вывод : ' ,massive_coins([2,4,5]))\n",
    "print(\"Ввод: piles = [9,8,7,6,5,1,2,3,4]\")\n",
    "print(f'Вывод : ' , massive_coins([9,8,7,6,5,1,2,3,4]))"
   ]
  },
  {
   "cell_type": "markdown",
   "metadata": {},
   "source": [
    "## Задача 2. Максимальное число\n",
    "Дан массив неотрицательных целых чисел nums. Расположите их в таком порядке, чтобы\n",
    "вместе они образовали максимально возможное число."
   ]
  },
  {
   "cell_type": "code",
   "execution_count": 36,
   "metadata": {},
   "outputs": [
    {
     "name": "stdout",
     "output_type": "stream",
     "text": [
      "количество элементы в массиве = 6\n",
      "наш массив :  [52, 76, 35, 13, 62, 20]\n",
      "отсортированный массив :  [76, 62, 52, 35, 20, 13]\n",
      "Максимальное число :   766252352013\n"
     ]
    }
   ],
   "source": [
    "import random\n",
    "\n",
    "length = int(input(\"количество элементы в массиве = \"))\n",
    "def massive(length):\n",
    "    array = []\n",
    "    for i in range(length):\n",
    "        array.append(random.randint(0,100))\n",
    "    return array\n",
    "mas = massive(length)\n",
    "print(f'наш массив : ' , mas)\n",
    "def sort_first_element(arr):\n",
    "    b = -1\n",
    "    mas1 = []\n",
    "    for i in range(len(arr)):\n",
    "        a = arr[i]\n",
    "        while b//10 != 0:\n",
    "            b = a // 10\n",
    "            buffer = b % 10\n",
    "        mas1.append(buffer)\n",
    "        b = -1\n",
    "    for i in range(len(mas1)):\n",
    "        if mas1[i] == 0:\n",
    "            mas1[i] = arr[i]\n",
    "    return mas1\n",
    "mas1 = sort_first_element(mas)\n",
    "def sort_main_mas(mas,mas1):\n",
    "    for i in range(len(mas)-1):\n",
    "        for j in range(len(mas)-i-1):\n",
    "            if mas1[j] < mas1[j+1]:\n",
    "                mas1[j], mas1[j+1] = mas1[j+1], mas1[j]\n",
    "                mas[j], mas[j+1] = mas[j+1], mas[j]\n",
    "    return mas\n",
    "print(f'отсортированный массив : ' ,sort_main_mas(mas,mas1))\n",
    "def strgrand(mas): \n",
    "    string = ' '\n",
    "    for x in mas:\n",
    "        string += str(x)\n",
    "    return string\n",
    "print(f'Максимальное число : ' , strgrand(mas))"
   ]
  },
  {
   "cell_type": "markdown",
   "metadata": {},
   "source": [
    "## Задача 3.  Balloons «Шарики и стрелы»\n",
    "Некоторые сферические шарики распределены по двухмерному пространству. Для каждого шарика даны x­координаты начала и конца его горизонтального диаметра. Так как пространство двумерно, то y­координаты не имеют значения в данной задаче. Координата xstart всегда меньше xend. Стрелу можно выстрелить строго вертикально (вдоль y­оси) из разных точек x­оси. Шарик с координатами xstart и xend уничтожается стрелой, если она была выпущена из такой позиции x, что xstart ⩽ x ⩽ xend. Когда стрела выпущена, она летит в пространстве бесконечное время (уничтожая все шарики на пути). Дан массив points, где points[i] = [xstart, xend]. Напишите функцию, возвращающую минимальное количество стрел, которые нужно выпустить, чтобы уничтожить все шарики."
   ]
  },
  {
   "cell_type": "code",
   "execution_count": 39,
   "metadata": {},
   "outputs": [
    {
     "name": "stdout",
     "output_type": "stream",
     "text": [
      "Ввод: points =[[10, 16],[2,8],[1,6],[7,12]]\n",
      "Вывод: 2\n",
      " \n",
      "Ввод: points =[[1,2],[3,4],[5,6],[7,8]]\n",
      "Вывод: 4\n",
      " \n",
      "Ввод: points =[[1,2],[2,3],[3,4],[4,5]]\n",
      "Вывод: 2\n",
      " \n",
      "Ввод: points =[[1,2]]\n",
      "Вывод: 1\n",
      " \n",
      "Ввод: points =[[2,3],[2,3]]\n",
      "Вывод: 1\n"
     ]
    }
   ],
   "source": [
    "class Balloons:    \n",
    "    def flecheShots(points) -> int:\n",
    "        if not points: return 0\n",
    "        points.sort()\n",
    "        prev=points[0]\n",
    "        total=1\n",
    "        for s,e in points[1:]:\n",
    "            if s>prev[1]:\n",
    "                total+=1\n",
    "                prev=[s,e]\n",
    "            else:\n",
    "                prev[1]=min(prev[1],e)\n",
    "        \n",
    "        return total\n",
    "print(f'Ввод: points =[[10, 16],[2,8],[1,6],[7,12]]') \n",
    "print(f'Вывод:', Balloons.flecheShots([[10, 16],[2,8],[1,6],[7,12]]))\n",
    "print(\" \")\n",
    "print(f'Ввод: points =[[1,2],[3,4],[5,6],[7,8]]') \n",
    "print(f'Вывод:', Balloons.flecheShots([[1,2],[3,4],[5,6],[7,8]]))\n",
    "print(\" \")\n",
    "print(f'Ввод: points =[[1,2],[2,3],[3,4],[4,5]]') \n",
    "print(f'Вывод:', Balloons.flecheShots([[1,2],[2,3],[3,4],[4,5]]))\n",
    "print(\" \")\n",
    "print(f'Ввод: points =[[1,2]]') \n",
    "print(f'Вывод:', Balloons.flecheShots([[1,2]]))\n",
    "print(\" \")\n",
    "print(f'Ввод: points =[[2,3],[2,3]]') \n",
    "print(f'Вывод:', Balloons.flecheShots([[2,3],[2,3]]))"
   ]
  },
  {
   "cell_type": "markdown",
   "metadata": {},
   "source": [
    "## Задача 4. Треугольник с максимальным периметром\n",
    "Массив A состоит из целых положительных чисел длин отрезков. Составьте из трех отрезков такой треугольник, чтобы его периметр был максимально возможным. Если невозможно составить треугольник с положительной площадью функция возвращает 0."
   ]
  },
  {
   "cell_type": "code",
   "execution_count": 42,
   "metadata": {},
   "outputs": [
    {
     "name": "stdout",
     "output_type": "stream",
     "text": [
      "Ввод :  [3, 6, 2, 3]\n",
      "Вывод :максимальный периметр =  8\n"
     ]
    }
   ],
   "source": [
    "massive = [3,6,2,3]\n",
    "mass = sorted(massive)\n",
    "x, y, z = mass.pop(-1), mass.pop(-1), None\n",
    "perimetre = 0\n",
    "while mass and perimetre == 0:\n",
    "    for side in mass:\n",
    "        if not(side + x > y and side + y > x and x + y > side):\n",
    "            continue\n",
    "        else:\n",
    "            if x + y + side > perimetre:\n",
    "                perimetre = x + y + side\n",
    "    x = y\n",
    "    y = mass.pop(-1)\n",
    "\n",
    "print (f'Ввод : ' , massive )\n",
    "print (f'Вывод :максимальный периметр = ' , perimetre )"
   ]
  },
  {
   "cell_type": "markdown",
   "metadata": {},
   "source": [
    "## Задача 5. Сортировка диагоналей в матрице\n",
    "Дана матрица mat размером m * n, значения - целочисленные. Напишите функцию, сортирующую каждую диагональ матрицы по возрастанию и возвращающую получившуюся матрицу."
   ]
  },
  {
   "cell_type": "code",
   "execution_count": 46,
   "metadata": {},
   "outputs": [
    {
     "name": "stdout",
     "output_type": "stream",
     "text": [
      "исходный матриц:\n",
      "[3, 3, 1, 1]\n",
      "[2, 2, 1, 2]\n",
      "[1, 1, 1, 2]\n",
      "\n",
      "Отсортированный: \n",
      "[1, 1, 1, 1]\n",
      "[1, 2, 2, 2]\n",
      "[1, 2, 3, 3]\n",
      "\n",
      "исходный матриц:\n",
      "[11, 25, 66, 1, 69, 7]\n",
      "[23, 55, 17, 45, 15, 52]\n",
      "[75, 31, 36, 44, 58, 8]\n",
      "[22, 27, 33, 25, 68, 4]\n",
      "[84, 28, 14, 11, 5, 50]\n",
      "\n",
      "Отсортированный: \n",
      "[5, 17, 4, 1, 52, 7]\n",
      "[11, 11, 25, 45, 8, 69]\n",
      "[14, 23, 25, 44, 58, 15]\n",
      "[22, 27, 31, 36, 50, 66]\n",
      "[84, 28, 75, 33, 55, 68]\n"
     ]
    }
   ],
   "source": [
    "def sortDiagonal(mat):\n",
    "    # Размер матрицы\n",
    "    m, n = len(mat), len(mat[0])\n",
    "    # Пустой массив для диагоналей исходной матрицы\n",
    "    temp = [[] for i in range(m+n)]\n",
    "    # Добавляем каждую диагональ в массив t\n",
    "    for i in range(m):\n",
    "        for j in range(n):\n",
    "            temp[i - j].append(mat[i][j])\n",
    "    # Сортируем каждую диагональ (т.е линию) массива\n",
    "    for line in temp:\n",
    "        line.sort(reverse = True)\n",
    "    # \"Линии\" в диагонали матрицы\n",
    "    for i in range(m):\n",
    "        for j in range(n):\n",
    "            # pop() удаляет последний элемент массива и возвращает его\n",
    "            mat[i][j] = temp[i-j].pop()\n",
    "    return mat\n",
    "\n",
    "arr = [[3,3,1,1], [2,2,1,2], [1,1,1,2]]\n",
    "print(\"исходный матриц:\")\n",
    "for l in arr:\n",
    "    print(l) \n",
    "print(\"\\nОтсортированный: \")\n",
    "arr = sortDiagonal(arr)\n",
    "for l in arr:\n",
    "    print(l)\n",
    "arr = [[11, 25, 66, 1, 69, 7], [23, 55, 17, 45, 15, 52], [75, 31, 36, 44, 58, 8], [22, 27, 33, 25, 68, 4], [84, 28, 14, 11, 5, 50]]\n",
    "print(\"\\nисходный матриц:\")\n",
    "for l in arr:\n",
    "    print(l)\n",
    "    \n",
    "print(\"\\nОтсортированный: \")\n",
    "arr = sortDiagonal(arr)\n",
    "for l in arr:\n",
    "    print(l)"
   ]
  },
  {
   "cell_type": "markdown",
   "metadata": {},
   "source": [
    "## Задача 6 Объединение отрезков\n",
    "Дан массив отрезков intervals, в котором intervals[i] = [starti, endi], некоторые отрезки могут пересекаться. Напишите функцию, которая объединяет все пересекающиеся отрезки в один и возвращает новый массив непересекающихся отрезков."
   ]
  },
  {
   "cell_type": "code",
   "execution_count": 49,
   "metadata": {},
   "outputs": [
    {
     "name": "stdout",
     "output_type": "stream",
     "text": [
      "Ввод :  [[1, 3], [2, 6], [8, 10], [15, 18]]\n",
      "Вывод :  [[1, 6], [8, 10], [15, 18]]\n",
      "Ввод :  [[1, 4], [4, 5]]\n",
      "Вывод :  [[1, 5]]\n"
     ]
    }
   ],
   "source": [
    "def variable1(x, y):\n",
    "    if x[0] <= y[0] <= x[1] or y[0] <= x[0] <= y[1]:\n",
    "        return True\n",
    "    return False\n",
    "intervals1 = [[1, 3], [2, 6], [8, 10], [15, 18]]\n",
    "reponse1 = [intervals1[0]]\n",
    "massive1 = sorted(intervals1)\n",
    "for i in range(1, len(intervals1)):\n",
    "    if variable1(reponse1[-1], intervals1[i]):\n",
    "        reponse1[-1] = [reponse1[-1][0], intervals1[i][1]]\n",
    "    else:\n",
    "        reponse1.append(intervals1[i])\n",
    "print (f'Ввод : ' , intervals1 )\n",
    "print (f'Вывод : ' , reponse1 )\n",
    "def variable2(x, y):\n",
    "    if x[0] <= y[0] <= x[1] or y[0] <= x[0] <= y[1]:\n",
    "        return True\n",
    "    return False\n",
    "intervals2 = [[1,4],[4,5]]\n",
    "reponse2 = [intervals2[0]]\n",
    "massive2 = sorted(intervals2)\n",
    "for i in range(1, len(intervals2)):\n",
    "    if variable2(reponse2[-1], intervals2[i]):\n",
    "        reponse2[-1] = [reponse2[-1][0], intervals2[i][1]]\n",
    "    else:\n",
    "        reponse2.append(intervals2[i])\n",
    "print (f'Ввод : ' , intervals2 )\n",
    "print (f'Вывод : ' , reponse2 )"
   ]
  },
  {
   "cell_type": "markdown",
   "metadata": {},
   "source": [
    "## Задача 7. Задачи на строки\n",
    "Даны две строки: s1 и s2 с одинаковым размером, проверьте, может ли некоторая перестановка строки s1 “победить” некоторую перестановку строки s2 или наоборот. Строка x может “победить” строку y (обе имеют размер n), если x[i]> = y [i] (в алфавитном порядке) для всех i от 0 до n-1."
   ]
  },
  {
   "cell_type": "code",
   "execution_count": 55,
   "metadata": {},
   "outputs": [
    {
     "name": "stdout",
     "output_type": "stream",
     "text": [
      "Output: false \n",
      "Они не могут победить друг друга.\n"
     ]
    }
   ],
   "source": [
    "def lignes(ligne1, ligne2):\n",
    "    ligne1 = sorted(ligne1)\n",
    "    ligne2 = sorted(ligne2)\n",
    "    m1 = 0\n",
    "    m2 = 0\n",
    "    for i in range(len(ligne1)):\n",
    "        if ligne1[i] >= ligne2[i]:\n",
    "            m1 += 1\n",
    "\n",
    "    for i in range(len( ligne2)):\n",
    "        if  ligne2[i] >=  ligne1[i]:\n",
    "            m2 += 1\n",
    "    if m1 == len(ligne1) and m2 == len(ligne2):\n",
    "        print(\"Output: true \")\n",
    "        print(\"Они равны.\")\n",
    "    elif m1 == len(ligne1):\n",
    "        print(f\"Первая Строка ligne1: '{''.join(ligne1)}' может побеждать вторую строку ligne2: '{''.join(ligne2)}'.\")\n",
    "    elif m2 == len(ligne2):\n",
    "        print(f\"Вторая Строка ligne2: '{''.join(ligne2)}' может побеждать Первую Строку ligne1: '{''.join(ligne1)}'.\")\n",
    "    else:\n",
    "        print(\"Output: false \")\n",
    "        print(\"Они не могут победить друг друга.\")\n",
    "\n",
    "lignes('abe', 'acd')"
   ]
  },
  {
   "cell_type": "markdown",
   "metadata": {},
   "source": [
    "## Задача 8. (Задачи на строки)\n",
    "Дана строка s, вернуть самую длинную полиндромную подстроку в s"
   ]
  },
  {
   "cell_type": "code",
   "execution_count": 69,
   "metadata": {},
   "outputs": [
    {
     "name": "stdout",
     "output_type": "stream",
     "text": [
      "bb\n"
     ]
    }
   ],
   "source": [
    "from itertools import combinations\n",
    "don = 'cbbd'\n",
    "ira = True\n",
    "for i in range(len(don), 0, -1):\n",
    "    if ira:\n",
    "        for rep in combinations(don, i):\n",
    "            koze = ''.join(tuple(rep))\n",
    "            if koze in don:\n",
    "                if tuple(reversed(rep)) == rep:\n",
    "                    print(''.join(rep))\n",
    "                    ira = False\n",
    "                    break\n",
    "    else:\n",
    "        break"
   ]
  },
  {
   "cell_type": "markdown",
   "metadata": {},
   "source": [
    "## Задача 9. (Задачи на строки)\n",
    "Вернуть количество отдельных непустых подстрок текста, которые могут быть записаны как конкатенация некоторой строки с самой собой (т.е. она может быть записана, как a + a, где a - некоторая строка)."
   ]
  },
  {
   "cell_type": "code",
   "execution_count": 68,
   "metadata": {},
   "outputs": [
    {
     "name": "stdout",
     "output_type": "stream",
     "text": [
      "['abc', 'bca', 'cab']\n",
      "Output:  3\n"
     ]
    }
   ],
   "source": [
    "mot = 'abcabcabc'\n",
    "arr = []\n",
    "for i in range(1, len(mot) // 2 + 1):\n",
    "    for j in range(len(mot)):\n",
    "        if len(mot) - j >= i:\n",
    "            m = 0\n",
    "            tmp = \"\"\n",
    "            while m < i:\n",
    "                if j + m < len(mot):\n",
    "                    tmp += mot[j + m]\n",
    "                    m += 1\n",
    "                else:\n",
    "                    break\n",
    "            arr.append(tmp)\n",
    "ans = 0\n",
    "arr1 = []\n",
    "for i in range(len(arr)):\n",
    "    if i + len(arr[i]) < len(arr):\n",
    "        if arr[i] == arr[i + len(arr[i])]:\n",
    "            if arr[i] not in arr1:\n",
    "                arr1.append(arr[i])\n",
    "print(arr1)\n",
    "print(f'Output: ' , len(arr1))"
   ]
  },
  {
   "cell_type": "markdown",
   "metadata": {},
   "source": [
    "## Вывод\n",
    "В данной курсовой работы мы научились решать 9 различных задач на языке программирования Python 3, целью было изучение различных предметов и навыков на этом языке программирования."
   ]
  }
 ],
 "metadata": {
  "kernelspec": {
   "display_name": "Python 3",
   "language": "python",
   "name": "python3"
  },
  "language_info": {
   "codemirror_mode": {
    "name": "ipython",
    "version": 3
   },
   "file_extension": ".py",
   "mimetype": "text/x-python",
   "name": "python",
   "nbconvert_exporter": "python",
   "pygments_lexer": "ipython3",
   "version": "3.8.5"
  }
 },
 "nbformat": 4,
 "nbformat_minor": 4
}
